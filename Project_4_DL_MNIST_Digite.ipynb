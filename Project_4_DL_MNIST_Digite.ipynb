{
  "nbformat": 4,
  "nbformat_minor": 0,
  "metadata": {
    "colab": {
      "name": "Project-4-DL-MNIST-Digite.ipynb",
      "provenance": [],
      "collapsed_sections": []
    },
    "kernelspec": {
      "name": "python3",
      "display_name": "Python 3"
    }
  },
  "cells": [
    {
      "cell_type": "code",
      "metadata": {
        "id": "Jm9C5Lpu1i7J"
      },
      "source": [
        "# Import the Necessary Library \r\n",
        "import tensorflow as tf\r\n",
        "from tensorflow import keras\r\n",
        "import numpy as np\r\n",
        "import matplotlib.pyplot as plt\r\n",
        "from tensorflow.keras.models import Sequential\r\n",
        "from tensorflow.keras.layers import Dropout,Conv2D,Flatten,Dense,Activation,MaxPooling2D\r\n",
        "from keras import backend as k\r\n",
        "import cv2"
      ],
      "execution_count": 1,
      "outputs": []
    },
    {
      "cell_type": "markdown",
      "metadata": {
        "id": "AxYS-G5YBc4t"
      },
      "source": [
        "**step-1-Loading Our Dataset**"
      ]
    },
    {
      "cell_type": "code",
      "metadata": {
        "colab": {
          "base_uri": "https://localhost:8080/"
        },
        "id": "VE2AucvV5XwF",
        "outputId": "f0efc0d2-b944-48dd-bcd3-bf6b623495d2"
      },
      "source": [
        "#Load The Dataset\r\n",
        "mnist = keras.datasets.mnist\r\n",
        "(x_train,y_train), (x_test,y_test) = mnist.load_data()"
      ],
      "execution_count": 2,
      "outputs": [
        {
          "output_type": "stream",
          "text": [
            "Downloading data from https://storage.googleapis.com/tensorflow/tf-keras-datasets/mnist.npz\n",
            "11493376/11490434 [==============================] - 0s 0us/step\n"
          ],
          "name": "stdout"
        }
      ]
    },
    {
      "cell_type": "code",
      "metadata": {
        "colab": {
          "base_uri": "https://localhost:8080/",
          "height": 265
        },
        "id": "lt_l-KEp5X1S",
        "outputId": "55e1a257-5dc8-4201-df50-57d389f82b32"
      },
      "source": [
        "plt.figure()\r\n",
        "plt.imshow(x_train[0])\r\n",
        "plt.colorbar()\r\n",
        "plt.grid(False)\r\n",
        "plt.show()"
      ],
      "execution_count": 3,
      "outputs": [
        {
          "output_type": "display_data",
          "data": {
            "image/png": "[encoded data removed]",
            "text/plain": [
              "<Figure size 432x288 with 2 Axes>"
            ]
          },
          "metadata": {
            "tags": [],
            "needs_background": "light"
          }
        }
      ]
    },
    {
      "cell_type": "markdown",
      "metadata": {
        "id": "w1r033GYBmH8"
      },
      "source": [
        "**Step-2-Examine the Size and Dimension of image**"
      ]
    },
    {
      "cell_type": "code",
      "metadata": {
        "colab": {
          "base_uri": "https://localhost:8080/"
        },
        "id": "lRoyzEIy5X5E",
        "outputId": "0d2f307f-56b5-49db-d8ce-0317febcdd7a"
      },
      "source": [
        "print(x_train.shape)\r\n",
        "print('Initial shape or dimension of x_train ',str(x_train.shape))\r\n",
        "print(\"Number of samples in our training data:\" +str(len(x_train)))\r\n",
        "print(\"Number of labels in our training data:\" +str(len(y_train)))\r\n",
        "print(\"Number of samples in our training data:\" +str(len(x_test)))\r\n",
        "print(\"Number of samples in our training data:\" +str(len(y_test)))\r\n",
        "print(\"    \")\r\n",
        "print(\"Dimensions of x_train:\" + str(x_train[0].shape))\r\n",
        "#print(\"labels of x_train:\" + str(y_train.shape))\r\n",
        "print(\"   \")\r\n",
        "print(\"Dimensions of x_test:\" + str(x_test[0].shape))\r\n",
        "#print(\"labels of x_test:\" + str(y_test.shape))"
      ],
      "execution_count": 4,
      "outputs": [
        {
          "output_type": "stream",
          "text": [
            "(60000, 28, 28)\n",
            "Initial shape or dimension of x_train  (60000, 28, 28)\n",
            "Number of samples in our training data:60000\n",
            "Number of labels in our training data:60000\n",
            "Number of samples in our training data:10000\n",
            "Number of samples in our training data:10000\n",
            "    \n",
            "Dimensions of x_train:(28, 28)\n",
            "   \n",
            "Dimensions of x_test:(28, 28)\n"
          ],
          "name": "stdout"
        }
      ]
    },
    {
      "cell_type": "markdown",
      "metadata": {
        "id": "5Zv_9_ZsCRGZ"
      },
      "source": [
        "**Step-3-Looking At the Some Images From the dataset**"
      ]
    },
    {
      "cell_type": "code",
      "metadata": {
        "colab": {
          "base_uri": "https://localhost:8080/",
          "height": 191
        },
        "id": "AH4X_JLz5X8k",
        "outputId": "11100c8f-f581-449f-9c70-30d29918729a"
      },
      "source": [
        "import matplotlib.pyplot as plt\r\n",
        "# Plot 6 images not subpplot's arguments are nrows,ncols,index\r\n",
        "#we set the color map to gray since our images dataset is grayscale \r\n",
        "plt.subplot(331)\r\n",
        "random_num=np.random.randint(0,len(x_train))\r\n",
        "plt.imshow(x_train[random_num],cmap=plt.get_cmap('gray'))\r\n",
        "plt.subplot(332)\r\n",
        "random_num=np.random.randint(0,len(x_train))\r\n",
        "plt.imshow(x_train[random_num],cmap=plt.get_cmap('gray'))\r\n",
        "plt.subplot(333)\r\n",
        "random_num=np.random.randint(0,len(x_train))\r\n",
        "plt.imshow(x_train[random_num],cmap=plt.get_cmap('gray'))\r\n",
        "plt.subplot(334)\r\n",
        "random_num=np.random.randint(0,len(x_train))\r\n",
        "plt.imshow(x_train[random_num],cmap=plt.get_cmap('gray'))\r\n",
        "plt.subplot(335)\r\n",
        "random_num=np.random.randint(0,len(x_train))\r\n",
        "plt.imshow(x_train[random_num],cmap=plt.get_cmap('gray'))\r\n",
        "plt.subplot(336)\r\n",
        "random_num=np.random.randint(0,len(x_train))\r\n",
        "plt.imshow(x_train[random_num],cmap=plt.get_cmap('gray'))\r\n",
        "\r\n",
        "plt.show()"
      ],
      "execution_count": 5,
      "outputs": [
        {
          "output_type": "display_data",
          "data": {
            "image/png": "[encoded data removed]",
            "text/plain": [
              "<Figure size 432x288 with 6 Axes>"
            ]
          },
          "metadata": {
            "tags": [],
            "needs_background": "light"
          }
        }
      ]
    },
    {
      "cell_type": "markdown",
      "metadata": {
        "id": "FXCmeepZIiHA"
      },
      "source": [
        "**Step-4Preparing Our Dataset For Training**"
      ]
    },
    {
      "cell_type": "code",
      "metadata": {
        "id": "D16KxJi55YAL"
      },
      "source": [
        "#Let Store the number rows and columns \r\n",
        "img_rows=x_train[0].shape[0]\r\n",
        "img_cols=x_train[0].shape[1]"
      ],
      "execution_count": 6,
      "outputs": []
    },
    {
      "cell_type": "code",
      "metadata": {
        "id": "maLt0yd19DVj"
      },
      "source": [
        "#Store the shape of a single image\r\n",
        "input_shape=(img_rows,img_cols,1)"
      ],
      "execution_count": 7,
      "outputs": []
    },
    {
      "cell_type": "code",
      "metadata": {
        "id": "67UbKTAa5YDe"
      },
      "source": [
        "#Get the dataset in the right shape wee t to reshape it \r\n",
        "x_train=x_train.reshape(x_train.shape[0],img_rows,img_cols,1)\r\n",
        "x_test=x_test.reshape(x_test.shape[0],img_rows,img_cols,1)"
      ],
      "execution_count": 8,
      "outputs": []
    },
    {
      "cell_type": "code",
      "metadata": {
        "id": "J2nR_Oq75YG6"
      },
      "source": [
        "#Change our image type into the float32 type \r\n",
        "x_train=x_train.astype('float32')\r\n",
        "x_test=x_test.astype('float32')"
      ],
      "execution_count": 9,
      "outputs": []
    },
    {
      "cell_type": "code",
      "metadata": {
        "id": "QjjDgWC55YMo"
      },
      "source": [
        "#Normalize the data by changing the range from (0,255) to (0,1)\r\n",
        "x_train/=255\r\n",
        "x_test/=255"
      ],
      "execution_count": 10,
      "outputs": []
    },
    {
      "cell_type": "code",
      "metadata": {
        "colab": {
          "base_uri": "https://localhost:8080/"
        },
        "id": "E9ANZDks5YRj",
        "outputId": "36c075aa-f392-43a8-ac59-cd6f620cd8c2"
      },
      "source": [
        "print('x_train,shape:',x_train.shape)\r\n",
        "print(x_train.shape[0],'train_samples')\r\n",
        "print(x_test.shape[0],'test_samples')"
      ],
      "execution_count": 11,
      "outputs": [
        {
          "output_type": "stream",
          "text": [
            "x_train,shape: (60000, 28, 28, 1)\n",
            "60000 train_samples\n",
            "10000 test_samples\n"
          ],
          "name": "stdout"
        }
      ]
    },
    {
      "cell_type": "markdown",
      "metadata": {
        "id": "I195RmDy-YP-"
      },
      "source": [
        "**Step-5 One Hot Encode The Label(y)**"
      ]
    },
    {
      "cell_type": "code",
      "metadata": {
        "colab": {
          "base_uri": "https://localhost:8080/"
        },
        "id": "AY2P9YvI95Xs",
        "outputId": "e4b4af5e-39d1-4bee-e6ea-aec494cf8c5a"
      },
      "source": [
        "from keras.utils import np_utils\r\n",
        "#Now We One Hot Encode the ouput \r\n",
        "y_train=np_utils.to_categorical(y_train)\r\n",
        "y_test=np_utils.to_categorical(y_test)\r\n",
        "#Lets Count the number of column to our one hot encoding matrix \r\n",
        "print('Number of Classes:' + str(y_test.shape[1]))\r\n",
        "num_classes=y_test.shape[1]\r\n",
        "num_pixels=x_train.shape[1]*x_train.shape[2]"
      ],
      "execution_count": 12,
      "outputs": [
        {
          "output_type": "stream",
          "text": [
            "Number of Classes:10\n"
          ],
          "name": "stdout"
        }
      ]
    },
    {
      "cell_type": "code",
      "metadata": {
        "colab": {
          "base_uri": "https://localhost:8080/"
        },
        "id": "9-rLa6S595cI",
        "outputId": "54cb1537-b724-40d0-f2bd-d911c12ed0af"
      },
      "source": [
        "y_train[0]"
      ],
      "execution_count": 13,
      "outputs": [
        {
          "output_type": "execute_result",
          "data": {
            "text/plain": [
              "array([0., 0., 0., 0., 0., 1., 0., 0., 0., 0.], dtype=float32)"
            ]
          },
          "metadata": {
            "tags": []
          },
          "execution_count": 13
        }
      ]
    },
    {
      "cell_type": "markdown",
      "metadata": {
        "id": "rjS80hai_ugx"
      },
      "source": [
        "**Step-6 Creating Our Model**"
      ]
    },
    {
      "cell_type": "code",
      "metadata": {
        "colab": {
          "base_uri": "https://localhost:8080/"
        },
        "id": "MmTLA4I595f0",
        "outputId": "891c354b-61c0-4cfa-cdcf-aabc6fd334b7"
      },
      "source": [
        "model=Sequential()\r\n",
        "model.add(Conv2D(32,kernel_size=(3,3),activation='relu',input_shape=input_shape))\r\n",
        "model.add(MaxPooling2D(pool_size=(2,2)))\r\n",
        "model.add(Dropout(0.5))\r\n",
        "model.add(Conv2D(64,kernel_size=(3,3),activation='relu'))\r\n",
        "model.add(MaxPooling2D(pool_size=(2,2)))\r\n",
        "model.add(Dropout(0.5))\r\n",
        "model.add(Conv2D(64,(3,3),activation='relu'))\r\n",
        "model.add(MaxPooling2D(pool_size=(2,2)))\r\n",
        "model.add(Dropout(0.5))\r\n",
        "model.add(Flatten())\r\n",
        "model.add(Dense(128,activation='relu'))\r\n",
        "model.add(Dropout(0.5))\r\n",
        "model.add(Dense(10))\r\n",
        "model.add(Activation('softmax'))\r\n",
        "\r\n",
        "model.compile(loss='categorical_crossentropy',optimizer='adam',metrics=['accuracy'])\r\n",
        "print(model.summary())    "
      ],
      "execution_count": 14,
      "outputs": [
        {
          "output_type": "stream",
          "text": [
            "Model: \"sequential\"\n",
            "_________________________________________________________________\n",
            "Layer (type)                 Output Shape              Param #   \n",
            "=================================================================\n",
            "conv2d (Conv2D)              (None, 26, 26, 32)        320       \n",
            "_________________________________________________________________\n",
            "max_pooling2d (MaxPooling2D) (None, 13, 13, 32)        0         \n",
            "_________________________________________________________________\n",
            "dropout (Dropout)            (None, 13, 13, 32)        0         \n",
            "_________________________________________________________________\n",
            "conv2d_1 (Conv2D)            (None, 11, 11, 64)        18496     \n",
            "_________________________________________________________________\n",
            "max_pooling2d_1 (MaxPooling2 (None, 5, 5, 64)          0         \n",
            "_________________________________________________________________\n",
            "dropout_1 (Dropout)          (None, 5, 5, 64)          0         \n",
            "_________________________________________________________________\n",
            "conv2d_2 (Conv2D)            (None, 3, 3, 64)          36928     \n",
            "_________________________________________________________________\n",
            "max_pooling2d_2 (MaxPooling2 (None, 1, 1, 64)          0         \n",
            "_________________________________________________________________\n",
            "dropout_2 (Dropout)          (None, 1, 1, 64)          0         \n",
            "_________________________________________________________________\n",
            "flatten (Flatten)            (None, 64)                0         \n",
            "_________________________________________________________________\n",
            "dense (Dense)                (None, 128)               8320      \n",
            "_________________________________________________________________\n",
            "dropout_3 (Dropout)          (None, 128)               0         \n",
            "_________________________________________________________________\n",
            "dense_1 (Dense)              (None, 10)                1290      \n",
            "_________________________________________________________________\n",
            "activation (Activation)      (None, 10)                0         \n",
            "=================================================================\n",
            "Total params: 65,354\n",
            "Trainable params: 65,354\n",
            "Non-trainable params: 0\n",
            "_________________________________________________________________\n",
            "None\n"
          ],
          "name": "stdout"
        }
      ]
    },
    {
      "cell_type": "markdown",
      "metadata": {
        "id": "LMY_mV_sJNkA"
      },
      "source": [
        "**Step-7-Ploting Our Model**"
      ]
    },
    {
      "cell_type": "code",
      "metadata": {
        "colab": {
          "base_uri": "https://localhost:8080/",
          "height": 1000
        },
        "id": "LsJPJMhx95jj",
        "outputId": "6d8da697-df64-4146-c7da-cc9a88739f03"
      },
      "source": [
        "import keras\r\n",
        "import tensorflow as tf\r\n",
        "tf.keras.utils.plot_model(model,to_file=\"my_model.png\")"
      ],
      "execution_count": 15,
      "outputs": [
        {
          "output_type": "execute_result",
          "data": {
            "image/png": "[encoded data removed]",
            "text/plain": [
              "<IPython.core.display.Image object>"
            ]
          },
          "metadata": {
            "tags": []
          },
          "execution_count": 15
        }
      ]
    },
    {
      "cell_type": "markdown",
      "metadata": {
        "id": "yCCLQYGpJS5M"
      },
      "source": [
        "**Step-8-Training Our Model**"
      ]
    },
    {
      "cell_type": "code",
      "metadata": {
        "colab": {
          "base_uri": "https://localhost:8080/"
        },
        "id": "D6fQdvL1AgsI",
        "outputId": "bda913dd-369d-42a3-87dc-1c5c2838c4ac"
      },
      "source": [
        "batch_size=32\r\n",
        "epochs=15\r\n",
        "history=model.fit(x_train,y_train,batch_size=batch_size,epochs=epochs,verbose=1,validation_data=(x_test,y_test))\r\n",
        "score=model.evaluate(x_test,y_test,verbose=0)\r\n",
        "print('Test Loss',score[0])\r\n",
        "print('Test Accurcacy',score[1])"
      ],
      "execution_count": 16,
      "outputs": [
        {
          "output_type": "stream",
          "text": [
            "Epoch 1/15\n",
            "1875/1875 [==============================] - 62s 33ms/step - loss: 1.3163 - accuracy: 0.5337 - val_loss: 0.1480 - val_accuracy: 0.9561\n",
            "Epoch 2/15\n",
            "1875/1875 [==============================] - 61s 32ms/step - loss: 0.4022 - accuracy: 0.8806 - val_loss: 0.1043 - val_accuracy: 0.9690\n",
            "Epoch 3/15\n",
            "1875/1875 [==============================] - 61s 32ms/step - loss: 0.3181 - accuracy: 0.9074 - val_loss: 0.0979 - val_accuracy: 0.9729\n",
            "Epoch 4/15\n",
            "1875/1875 [==============================] - 62s 33ms/step - loss: 0.2807 - accuracy: 0.9187 - val_loss: 0.0856 - val_accuracy: 0.9748\n",
            "Epoch 5/15\n",
            "1875/1875 [==============================] - 61s 32ms/step - loss: 0.2518 - accuracy: 0.9274 - val_loss: 0.0774 - val_accuracy: 0.9762\n",
            "Epoch 6/15\n",
            "1875/1875 [==============================] - 61s 33ms/step - loss: 0.2448 - accuracy: 0.9297 - val_loss: 0.0697 - val_accuracy: 0.9793\n",
            "Epoch 7/15\n",
            "1875/1875 [==============================] - 62s 33ms/step - loss: 0.2336 - accuracy: 0.9324 - val_loss: 0.0677 - val_accuracy: 0.9778\n",
            "Epoch 8/15\n",
            "1875/1875 [==============================] - 61s 33ms/step - loss: 0.2243 - accuracy: 0.9358 - val_loss: 0.0663 - val_accuracy: 0.9809\n",
            "Epoch 9/15\n",
            "1875/1875 [==============================] - 63s 34ms/step - loss: 0.2167 - accuracy: 0.9377 - val_loss: 0.0635 - val_accuracy: 0.9811\n",
            "Epoch 10/15\n",
            "1875/1875 [==============================] - 61s 33ms/step - loss: 0.2121 - accuracy: 0.9402 - val_loss: 0.0647 - val_accuracy: 0.9803\n",
            "Epoch 11/15\n",
            "1875/1875 [==============================] - 62s 33ms/step - loss: 0.2034 - accuracy: 0.9420 - val_loss: 0.0653 - val_accuracy: 0.9805\n",
            "Epoch 12/15\n",
            "1875/1875 [==============================] - 62s 33ms/step - loss: 0.2118 - accuracy: 0.9404 - val_loss: 0.0626 - val_accuracy: 0.9815\n",
            "Epoch 13/15\n",
            "1875/1875 [==============================] - 62s 33ms/step - loss: 0.2029 - accuracy: 0.9434 - val_loss: 0.0614 - val_accuracy: 0.9807\n",
            "Epoch 14/15\n",
            "1875/1875 [==============================] - 64s 34ms/step - loss: 0.1998 - accuracy: 0.9418 - val_loss: 0.0575 - val_accuracy: 0.9819\n",
            "Epoch 15/15\n",
            "1875/1875 [==============================] - 62s 33ms/step - loss: 0.1967 - accuracy: 0.9430 - val_loss: 0.0588 - val_accuracy: 0.9815\n",
            "Test Loss 0.05882139876484871\n",
            "Test Accurcacy 0.9815000295639038\n"
          ],
          "name": "stdout"
        }
      ]
    },
    {
      "cell_type": "markdown",
      "metadata": {
        "id": "zDo-n51rJzOU"
      },
      "source": [
        "**Step-9-Ploting Our Loss And Accuracy Chart**"
      ]
    },
    {
      "cell_type": "code",
      "metadata": {
        "id": "LwFT3nTuAgv9",
        "colab": {
          "base_uri": "https://localhost:8080/",
          "height": 296
        },
        "outputId": "c49b5788-86c5-4858-bd33-00d41e9c53cd"
      },
      "source": [
        "import matplotlib.pyplot as plt\r\n",
        "history_dict=history.history\r\n",
        "loss_values=history_dict['loss']\r\n",
        "val_loss_values=history_dict['val_loss']\r\n",
        "epochs=range(1,len(loss_values)+1)\r\n",
        "line1=plt.plot(epochs,val_loss_values,label='validation/test loss')\r\n",
        "line2=plt.plot(epochs,loss_values,label='Training loss')\r\n",
        "plt.setp(line1,linewidth=2.0,marker='+',markersize=10.0)\r\n",
        "plt.setp(line2,linewidth=2.0,marker='4',markersize=10.0)\r\n",
        "plt.xlabel('Epochs')\r\n",
        "plt.ylabel('Loss')\r\n",
        "plt.grid(True)\r\n",
        "plt.legend()\r\n",
        "plt.show"
      ],
      "execution_count": 17,
      "outputs": [
        {
          "output_type": "execute_result",
          "data": {
            "text/plain": [
              "<function matplotlib.pyplot.show>"
            ]
          },
          "metadata": {
            "tags": []
          },
          "execution_count": 17
        },
        {
          "output_type": "display_data",
          "data": {
            "image/png": "[encoded data removed]",
            "text/plain": [
              "<Figure size 432x288 with 1 Axes>"
            ]
          },
          "metadata": {
            "tags": [],
            "needs_background": "light"
          }
        }
      ]
    },
    {
      "cell_type": "code",
      "metadata": {
        "id": "FrmsgVZfAg1-",
        "colab": {
          "base_uri": "https://localhost:8080/",
          "height": 296
        },
        "outputId": "bbf97e66-1eb4-4744-c28d-6beed2c1de48"
      },
      "source": [
        "import matplotlib.pyplot as plt\r\n",
        "history_dict=history.history\r\n",
        "acc_values=history_dict['accuracy']\r\n",
        "val_acc_values=history_dict['val_accuracy']\r\n",
        "epochs=range(1,len(loss_values)+1)\r\n",
        "line1=plt.plot(epochs,val_acc_values,label='validation/Test Accuracy ')\r\n",
        "line2=plt.plot(epochs,acc_values,label='Training Accuracy')\r\n",
        "plt.setp(line1,linewidth=2.0,marker='+',markersize=10.0)\r\n",
        "plt.setp(line2,linewidth=2.0,marker='4',markersize=10.0)\r\n",
        "plt.xlabel('Epochs')\r\n",
        "plt.ylabel('Accuracy')\r\n",
        "plt.grid(True)\r\n",
        "plt.legend()\r\n",
        "plt.show"
      ],
      "execution_count": 18,
      "outputs": [
        {
          "output_type": "execute_result",
          "data": {
            "text/plain": [
              "<function matplotlib.pyplot.show>"
            ]
          },
          "metadata": {
            "tags": []
          },
          "execution_count": 18
        },
        {
          "output_type": "display_data",
          "data": {
            "image/png": "[encoded data removed]",
            "text/plain": [
              "<Figure size 432x288 with 1 Axes>"
            ]
          },
          "metadata": {
            "tags": [],
            "needs_background": "light"
          }
        }
      ]
    },
    {
      "cell_type": "code",
      "metadata": {
        "id": "duxYLcjOAg7B",
        "colab": {
          "base_uri": "https://localhost:8080/"
        },
        "outputId": "eba8d95a-b368-4283-cb2d-8ad9f9d47349"
      },
      "source": [
        "history.history"
      ],
      "execution_count": 19,
      "outputs": [
        {
          "output_type": "execute_result",
          "data": {
            "text/plain": [
              "{'accuracy': [0.720216691493988,\n",
              "  0.8900166749954224,\n",
              "  0.9122166633605957,\n",
              "  0.9196333289146423,\n",
              "  0.9295333623886108,\n",
              "  0.9319333434104919,\n",
              "  0.9333999752998352,\n",
              "  0.9347000122070312,\n",
              "  0.9376166462898254,\n",
              "  0.9399166703224182,\n",
              "  0.9409499764442444,\n",
              "  0.9401999711990356,\n",
              "  0.9437999725341797,\n",
              "  0.9432333111763,\n",
              "  0.9441999793052673],\n",
              " 'loss': [0.8364207148551941,\n",
              "  0.3726375102996826,\n",
              "  0.3028547465801239,\n",
              "  0.27718043327331543,\n",
              "  0.2492699921131134,\n",
              "  0.2373969405889511,\n",
              "  0.2310648411512375,\n",
              "  0.22188922762870789,\n",
              "  0.21936556696891785,\n",
              "  0.21080733835697174,\n",
              "  0.20592938363552094,\n",
              "  0.21019208431243896,\n",
              "  0.19990596175193787,\n",
              "  0.19775961339473724,\n",
              "  0.19669707119464874],\n",
              " 'val_accuracy': [0.9560999870300293,\n",
              "  0.968999981880188,\n",
              "  0.9728999733924866,\n",
              "  0.9747999906539917,\n",
              "  0.9761999845504761,\n",
              "  0.9793000221252441,\n",
              "  0.9778000116348267,\n",
              "  0.98089998960495,\n",
              "  0.9811000227928162,\n",
              "  0.9803000092506409,\n",
              "  0.9804999828338623,\n",
              "  0.9815000295639038,\n",
              "  0.9807000160217285,\n",
              "  0.9818999767303467,\n",
              "  0.9815000295639038],\n",
              " 'val_loss': [0.1479857712984085,\n",
              "  0.10430080443620682,\n",
              "  0.09787547588348389,\n",
              "  0.08560783416032791,\n",
              "  0.07743439823389053,\n",
              "  0.0697060376405716,\n",
              "  0.06774493306875229,\n",
              "  0.06626385450363159,\n",
              "  0.06348402798175812,\n",
              "  0.06471804529428482,\n",
              "  0.06527129560709,\n",
              "  0.06256815046072006,\n",
              "  0.061373405158519745,\n",
              "  0.05747063085436821,\n",
              "  0.05882139876484871]}"
            ]
          },
          "metadata": {
            "tags": []
          },
          "execution_count": 19
        }
      ]
    },
    {
      "cell_type": "markdown",
      "metadata": {
        "id": "NQ3UZbC8KwBq"
      },
      "source": [
        "**Step-10-Save the Model**"
      ]
    },
    {
      "cell_type": "code",
      "metadata": {
        "colab": {
          "base_uri": "https://localhost:8080/"
        },
        "id": "2otguWDzKuDW",
        "outputId": "72595efc-2b03-4844-ecfa-88166a11b39a"
      },
      "source": [
        "model.save('Mnist.h5')\r\n",
        "print('model save')"
      ],
      "execution_count": 26,
      "outputs": [
        {
          "output_type": "stream",
          "text": [
            "model save\n"
          ],
          "name": "stdout"
        }
      ]
    },
    {
      "cell_type": "code",
      "metadata": {
        "id": "g_XKp-S8Qsvy"
      },
      "source": [
        "classifier=tf.keras.models.load_model('Mnist.h5')"
      ],
      "execution_count": 27,
      "outputs": []
    },
    {
      "cell_type": "markdown",
      "metadata": {
        "id": "Wtan1ASmLIhh"
      },
      "source": [
        "**Step-11-Lets Test the model On Test Data**"
      ]
    },
    {
      "cell_type": "code",
      "metadata": {
        "id": "3lt41OKZTT1l"
      },
      "source": [
        "import cv2\r\n",
        "import numpy as np\r\n",
        "from google.colab.patches import cv2_imshow\r\n"
      ],
      "execution_count": 40,
      "outputs": []
    },
    {
      "cell_type": "code",
      "metadata": {
        "colab": {
          "base_uri": "https://localhost:8080/",
          "height": 387
        },
        "id": "F92ULIKSVSO0",
        "outputId": "88e22173-87a8-4904-9620-4fbd60664904"
      },
      "source": [
        "import cv2\r\n",
        "import numpy as np\r\n",
        "from google.colab.patches import cv2_imshow\r\n",
        "img_row,img_height,img_depth=32,32,3\r\n",
        "color=True\r\n",
        "scale=8\r\n",
        "def draw_test(name,res,input_im,scale,img_row,img_height):\r\n",
        "  BLACK=[0,0,0]\r\n",
        "  res=int(res)\r\n",
        "  if res==0:\r\n",
        "    pred='0'\r\n",
        "  if res==1:\r\n",
        "    pred='1'\r\n",
        "  if res==2:\r\n",
        "    pred='2'\r\n",
        "  if res==3:\r\n",
        "    pred='3'\r\n",
        "  if res==4:\r\n",
        "    pred='4'\r\n",
        "  if res==5:\r\n",
        "    pred='5'\r\n",
        "  if res==6:\r\n",
        "    pred='6'\r\n",
        "  if res==7:\r\n",
        "    pred='7'\r\n",
        "  if res==8:\r\n",
        "    pred='8'\r\n",
        "  if res==9:\r\n",
        "    pred='9'    \r\n",
        "  \r\n",
        "  expanded_image=cv2.copyMakeBorder(input_im,0,0,0,imageL.shape[0]*2,cv2.BORDER_CONSTANT,value=BLACK)\r\n",
        "  if color==True:\r\n",
        "    expanded_image=cv2.cvtColor(expanded_image,cv2.COLOR_GRAY2BGR)\r\n",
        "  cv2.putText(expanded_image,str(pred),(300,80),cv2.FONT_HERSHEY_COMPLEX_SMALL,3,(0,255,0),2)\r\n",
        "  plt.imshow(expanded_image)\r\n",
        "\r\n",
        "for i in range(0,10):\r\n",
        "  rand=np.random.randint(0,len(x_test))\r\n",
        "  input_im=x_test[rand]\r\n",
        "  imageL=cv2.resize(input_im,None,fx=4,fy=4,interpolation=cv2.INTER_CUBIC)\r\n",
        "  input_im=input_im.reshape(1,28,28,1)\r\n",
        "\r\n",
        "  res=str(classifier.predict_classes(input_im,1,verbose=0)[0])\r\n",
        "  draw_test('prediction',res,imageL,scale,img_row,img_height)\r\n",
        "  cv2.waitKey(100)\r\n",
        "\r\n",
        "cv2.destroyAllWindows()\r\n"
      ],
      "execution_count": 44,
      "outputs": [
        {
          "output_type": "stream",
          "text": [
            "/usr/local/lib/python3.6/dist-packages/tensorflow/python/keras/engine/sequential.py:450: UserWarning: `model.predict_classes()` is deprecated and will be removed after 2021-01-01. Please use instead:* `np.argmax(model.predict(x), axis=-1)`,   if your model does multi-class classification   (e.g. if it uses a `softmax` last-layer activation).* `(model.predict(x) > 0.5).astype(\"int32\")`,   if your model does binary classification   (e.g. if it uses a `sigmoid` last-layer activation).\n",
            "  warnings.warn('`model.predict_classes()` is deprecated and '\n",
            "Clipping input data to the valid range for imshow with RGB data ([0..1] for floats or [0..255] for integers).\n",
            "Clipping input data to the valid range for imshow with RGB data ([0..1] for floats or [0..255] for integers).\n",
            "Clipping input data to the valid range for imshow with RGB data ([0..1] for floats or [0..255] for integers).\n",
            "Clipping input data to the valid range for imshow with RGB data ([0..1] for floats or [0..255] for integers).\n",
            "Clipping input data to the valid range for imshow with RGB data ([0..1] for floats or [0..255] for integers).\n",
            "Clipping input data to the valid range for imshow with RGB data ([0..1] for floats or [0..255] for integers).\n",
            "Clipping input data to the valid range for imshow with RGB data ([0..1] for floats or [0..255] for integers).\n",
            "Clipping input data to the valid range for imshow with RGB data ([0..1] for floats or [0..255] for integers).\n",
            "Clipping input data to the valid range for imshow with RGB data ([0..1] for floats or [0..255] for integers).\n",
            "Clipping input data to the valid range for imshow with RGB data ([0..1] for floats or [0..255] for integers).\n"
          ],
          "name": "stderr"
        },
        {
          "output_type": "display_data",
          "data": {
            "image/png": "[encoded data removed]",
            "text/plain": [
              "<Figure size 432x288 with 1 Axes>"
            ]
          },
          "metadata": {
            "tags": [],
            "needs_background": "light"
          }
        }
      ]
    },
    {
      "cell_type": "code",
      "metadata": {
        "id": "ewvLzpNZArEM"
      },
      "source": [
        ""
      ],
      "execution_count": null,
      "outputs": []
    },
    {
      "cell_type": "code",
      "metadata": {
        "id": "ik2281lXArJJ"
      },
      "source": [
        ""
      ],
      "execution_count": null,
      "outputs": []
    }
  ]
}